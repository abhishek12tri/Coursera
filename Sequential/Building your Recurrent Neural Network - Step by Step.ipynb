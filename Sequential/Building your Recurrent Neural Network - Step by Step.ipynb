{
 "cells": [
  {
   "cell_type": "code",
   "execution_count": 1,
   "id": "a177dcb7",
   "metadata": {},
   "outputs": [],
   "source": [
    "import numpy as np\n",
    "#from rnn_utils import *"
   ]
  },
  {
   "cell_type": "markdown",
   "id": "8536e62b",
   "metadata": {},
   "source": [
    "https://datascience-enthusiast.com/DL/Building_a_Recurrent_Neural_Network-Step_by_Step_v1.html"
   ]
  },
  {
   "cell_type": "code",
   "execution_count": 2,
   "id": "1eea76f6",
   "metadata": {},
   "outputs": [
    {
     "name": "stderr",
     "output_type": "stream",
     "text": [
      "2021-10-01 23:16:42,590 [nnabla][INFO]: Initializing CPU extension...\n"
     ]
    }
   ],
   "source": [
    "import nnabla.utils.rnn as rnn_utils"
   ]
  },
  {
   "cell_type": "code",
   "execution_count": 3,
   "id": "1556e1f5",
   "metadata": {},
   "outputs": [],
   "source": [
    "import math"
   ]
  },
  {
   "cell_type": "code",
   "execution_count": 4,
   "id": "de061b5f",
   "metadata": {},
   "outputs": [],
   "source": [
    "def softmax(x):\n",
    "    return np.exp(x) / np.sum(np.exp(x))\\\n",
    "\n",
    "def sigmoid(x):\n",
    "    return 1 / (1+ np.sum(np.exp(-x)))"
   ]
  },
  {
   "cell_type": "markdown",
   "id": "620facde",
   "metadata": {},
   "source": [
    "#### RNN Forward"
   ]
  },
  {
   "cell_type": "code",
   "execution_count": 10,
   "id": "429308ad",
   "metadata": {},
   "outputs": [],
   "source": [
    "def rnn_cell_forward(xt, a0, parameters):\n",
    "    Wax = parameters['Wax']\n",
    "    Waa = parameters['Waa']\n",
    "    Wya = parameters['Wya']\n",
    "    ba = parameters['ba']\n",
    "    by = parameters['by']\n",
    "    \n",
    "    a_next = np.tanh(np.dot(Wax, xt) + np.dot(Waa, a0) + ba)\n",
    "    yt_pred = softmax(np.dot(Wya, a_next) + by)\n",
    "    cache = (a_next, a0, xt, parameters)\n",
    "    return (a_next, yt_pred, cache)"
   ]
  },
  {
   "cell_type": "code",
   "execution_count": 11,
   "id": "a125acc3",
   "metadata": {},
   "outputs": [
    {
     "name": "stdout",
     "output_type": "stream",
     "text": [
      "a_next[4]  [ 0.61321104 -0.9998908  -0.99809365 -0.98438017  0.99987482  0.99299973\n",
      "  0.26412329  0.80225372 -0.13397744  0.97232586]\n",
      "a_next.shape  (5, 10)\n",
      "yt_pred[1]  [0.00251425 0.0415645  0.08795421 0.03221112 0.02285216 0.33451175\n",
      " 0.00114614 0.16982269 0.00459899 0.01603855]\n",
      "yt_pred.shape  (2, 10)\n"
     ]
    }
   ],
   "source": [
    "np.random.seed(1)\n",
    "x = np.random.randn(3, 10)\n",
    "Wax = np.random.randn(5, 3)\n",
    "a0 = np.random.randn(5, 10)\n",
    "Waa = np.random.randn(5, 5)\n",
    "Wya = np.random.randn(2, 5)\n",
    "ba = np.random.randn(5, 1)\n",
    "by = np.random.randn(2, 1)\n",
    "parameters = {'Waa':Waa, 'Wax': Wax, 'Wya': Wya, 'ba': ba, 'by':by}\n",
    "\n",
    "a_next, yt_pred, caches = rnn_cell_forward(x, a0, parameters)\n",
    "print('a_next[4] ', a_next[4])\n",
    "print('a_next.shape ', a_next.shape)\n",
    "print('yt_pred[1] ', yt_pred[1])\n",
    "print('yt_pred.shape ', yt_pred.shape)"
   ]
  },
  {
   "cell_type": "code",
   "execution_count": 13,
   "id": "9717d2d7",
   "metadata": {},
   "outputs": [],
   "source": [
    "def rnn_forward(x, a0, parameters):\n",
    "    caches = []\n",
    "    n_x, m, T_x = x.shape\n",
    "    n_y, n_a = parameters['Wya'].shape\n",
    "    \n",
    "    a = np.zeros((n_a, m, T_x))\n",
    "    y_pred = np.zeros((n_y, m, T_x))\n",
    "    a_next = a0\n",
    "    \n",
    "    for t in range(T_x):\n",
    "        a_next, yt_pred, cache = rnn_cell_forward(x[:, :, t], a_next, parameters)\n",
    "        a[:,:,t] = a_next\n",
    "        y_pred[:,:,t] = yt_pred \n",
    "        caches.append(cache)\n",
    "        \n",
    "    caches = (caches, x)\n",
    "    return a, y_pred, caches"
   ]
  },
  {
   "cell_type": "code",
   "execution_count": 14,
   "id": "91b0a675",
   "metadata": {},
   "outputs": [
    {
     "name": "stdout",
     "output_type": "stream",
     "text": [
      "a[4][1]  [-0.90904053 -0.99995561 -0.99999988 -0.99989633]\n",
      "a.shape  (5, 10, 4)\n",
      "y_pred[1][3]  [0.02111167 0.01337477 0.02728109 0.02691383]\n",
      "y_pred.shape  (2, 10, 4)\n",
      "caches[1][1][3]  [-1.1425182  -0.34934272 -0.20889423  0.58662319]\n",
      "caches.shape  2\n"
     ]
    }
   ],
   "source": [
    "np.random.seed(1)\n",
    "x = np.random.randn(3, 10, 4)\n",
    "Wax = np.random.randn(5, 3)\n",
    "a0 = np.random.randn(5, 10)\n",
    "Waa = np.random.randn(5, 5)\n",
    "Wya = np.random.randn(2, 5)\n",
    "ba = np.random.randn(5, 1)\n",
    "by = np.random.randn(2, 1)\n",
    "parameters = {'Waa':Waa, 'Wax': Wax, 'Wya': Wya, 'ba': ba, 'by':by}\n",
    "\n",
    "a, y_pred, caches = rnn_forward(x, a0, parameters)\n",
    "print('a[4][1] ', a[4][1])\n",
    "print('a.shape ', a.shape)\n",
    "print('y_pred[1][3] ', y_pred[1][3])\n",
    "print('y_pred.shape ', y_pred.shape)\n",
    "print('caches[1][1][3] ', caches[1][1][3])\n",
    "print('caches.shape ', len(caches))"
   ]
  },
  {
   "cell_type": "markdown",
   "id": "df7e98bf",
   "metadata": {},
   "source": [
    "##### RNN Backward"
   ]
  },
  {
   "cell_type": "code",
   "execution_count": 20,
   "id": "636e320c",
   "metadata": {},
   "outputs": [],
   "source": [
    "def rnn_cell_backward(da_next, cache):\n",
    "    (a_next, a_prev, xt, parameters) = cache\n",
    "    Wax = parameters['Wax']\n",
    "    Waa = parameters['Waa']\n",
    "    Wya = parameters['Wya']\n",
    "    ba = parameters['ba']\n",
    "    by = parameters['by']\n",
    "    \n",
    "    dtanh = (1 - a_next ** 2) * da_next\n",
    "    dxt = np.dot(Wax.T, dtanh)\n",
    "    dWax = np.dot(dtanh, xt.T)\n",
    "    \n",
    "    da_prev = np.dot(Waa.T, dtanh)\n",
    "    dWaa = np.dot(dtanh, a_prev.T)\n",
    "    dba = np.sum(dtanh, 1, keepdims=True)\n",
    "    gradients = {\"dxt\": dxt, \"da_prev\": da_prev, \"dWax\": dWax, \"dWaa\": dWaa, \"dba\": dba}\n",
    "    \n",
    "    return gradients"
   ]
  },
  {
   "cell_type": "code",
   "execution_count": 21,
   "id": "c5cf2b65",
   "metadata": {},
   "outputs": [
    {
     "name": "stdout",
     "output_type": "stream",
     "text": [
      "gradients[\"dxt\"][1][2] = -0.4703464057574519\n",
      "gradients[\"dxt\"].shape = (3, 10)\n",
      "gradients[\"da_prev\"][2][3] = -0.036545235051260304\n",
      "gradients[\"da_prev\"].shape = (5, 10)\n",
      "gradients[\"dWax\"][3][1] = -3.238639189804605\n",
      "gradients[\"dWax\"].shape = (5, 3)\n",
      "gradients[\"dWaa\"][1][2] = -0.9085593361709091\n",
      "gradients[\"dWaa\"].shape = (5, 5)\n",
      "gradients[\"dba\"][4] = [0.37539646]\n",
      "gradients[\"dba\"].shape = (5, 1)\n"
     ]
    }
   ],
   "source": [
    "np.random.seed(1)\n",
    "xt = np.random.randn(3, 10)\n",
    "Wax = np.random.randn(5, 3)\n",
    "a_prev = np.random.randn(5, 10)\n",
    "Waa = np.random.randn(5, 5)\n",
    "Wya = np.random.randn(2, 5)\n",
    "ba = np.random.randn(5, 1)\n",
    "by = np.random.randn(2, 1)\n",
    "parameters = {'Waa':Waa, 'Wax': Wax, 'Wya': Wya, 'ba': ba, 'by':by}\n",
    "\n",
    "a_next, yt, cache = rnn_cell_forward(xt, a_prev, parameters)\n",
    "da_next = np.random.randn(5, 10)\n",
    "gradients = rnn_cell_backward(da_next, cache)\n",
    "print(\"gradients[\\\"dxt\\\"][1][2] =\", gradients[\"dxt\"][1][2])\n",
    "print(\"gradients[\\\"dxt\\\"].shape =\", gradients[\"dxt\"].shape)\n",
    "print(\"gradients[\\\"da_prev\\\"][2][3] =\", gradients[\"da_prev\"][2][3])\n",
    "print(\"gradients[\\\"da_prev\\\"].shape =\", gradients[\"da_prev\"].shape)\n",
    "print(\"gradients[\\\"dWax\\\"][3][1] =\", gradients[\"dWax\"][3][1])\n",
    "print(\"gradients[\\\"dWax\\\"].shape =\", gradients[\"dWax\"].shape)\n",
    "print(\"gradients[\\\"dWaa\\\"][1][2] =\", gradients[\"dWaa\"][1][2])\n",
    "print(\"gradients[\\\"dWaa\\\"].shape =\", gradients[\"dWaa\"].shape)\n",
    "print(\"gradients[\\\"dba\\\"][4] =\", gradients[\"dba\"][4])\n",
    "print(\"gradients[\\\"dba\\\"].shape =\", gradients[\"dba\"].shape)"
   ]
  },
  {
   "cell_type": "code",
   "execution_count": null,
   "id": "54c2a5b8",
   "metadata": {},
   "outputs": [],
   "source": [
    "def rnn_backward(da, caches):"
   ]
  },
  {
   "cell_type": "code",
   "execution_count": null,
   "id": "49f3851f",
   "metadata": {},
   "outputs": [],
   "source": []
  },
  {
   "cell_type": "markdown",
   "id": "74422d79",
   "metadata": {},
   "source": [
    "## LSTM"
   ]
  },
  {
   "cell_type": "markdown",
   "id": "3c3eb64f",
   "metadata": {},
   "source": [
    "#### LSTM Forward"
   ]
  },
  {
   "cell_type": "code",
   "execution_count": 9,
   "id": "8448a885",
   "metadata": {},
   "outputs": [],
   "source": [
    "def lstm_cell_forward(xt, a_prev, c_prev, parameters):\n",
    "    Wf = parameters[\"Wf\"]\n",
    "    bf = parameters[\"bf\"]\n",
    "    Wi = parameters[\"Wi\"]\n",
    "    bi = parameters[\"bi\"]\n",
    "    Wc = parameters[\"Wc\"]\n",
    "    bc = parameters[\"bc\"]\n",
    "    Wo = parameters[\"Wo\"]\n",
    "    bo = parameters[\"bo\"]\n",
    "    Wy = parameters[\"Wy\"]\n",
    "    by = parameters[\"by\"]\n",
    "    \n",
    "    nx, m = xt.shape\n",
    "    ny, na = Wy.shape\n",
    "    concat = np.zeros((nx+na, m))\n",
    "    concat[:na,:] = a_prev\n",
    "    concat[na:,:] = xt\n",
    "    \n",
    "    ft = sigmoid(np.dot(Wf, concat) + bf)\n",
    "    it = sigmoid(np.dot(Wi, concat) + bi)\n",
    "    cct = np.tanh(np.dot(Wc, concat) + bc)\n",
    "    c_next = ft * c_prev + it * cct\n",
    "    ot = sigmoid(np.dot(Wo, concat) + bo)\n",
    "    a_next = ot * np.tanh(c_next)\n",
    "    \n",
    "    yt_pred = softmax(np.dot(Wy, a_next) + by)\n",
    "    cache = (a_next, c_next, a_prev, c_prev, ft, it, cct, ot, c_next, parameters)\n",
    "    return a_next, c_next, yt_pred, cache"
   ]
  },
  {
   "cell_type": "code",
   "execution_count": 10,
   "id": "026febaf",
   "metadata": {},
   "outputs": [
    {
     "name": "stdout",
     "output_type": "stream",
     "text": [
      "a_next[4] =  [-1.92608078e-06  1.72361055e-06  7.44001192e-07 -1.38529739e-06\n",
      " -2.45121292e-06  2.29221219e-06  1.12789237e-06  1.91547132e-06\n",
      "  1.60358166e-06 -1.69840750e-06]\n",
      "a_next.shape =  (5, 10)\n",
      "c_next[2] =  [ 0.00244141 -0.00279353 -0.00319777 -0.00227373 -0.00350069 -0.00029409\n",
      "  0.00250615  0.00257476 -0.00210911 -0.00173752]\n",
      "c_next.shape =  (5, 10)\n",
      "yt[1] = [0.0340451  0.03404476 0.03404487 0.03404493 0.03404506 0.03404476\n",
      " 0.03404488 0.03404484 0.03404487 0.03404514]\n",
      "yt.shape =  (2, 10)\n",
      "cache[1][3] = [-0.00012549  0.00357986  0.00349516 -0.00067504  0.001928    0.00271525\n",
      "  0.00269435  0.00024253  0.00366979 -0.00169487]\n",
      "len(cache) =  10\n"
     ]
    }
   ],
   "source": [
    "np.random.seed(1)\n",
    "xt = np.random.randn(3, 10)\n",
    "a_prev = np.random.randn(5, 10)\n",
    "c_prev = np.random.randn(5, 10)\n",
    "Wf = np.random.randn(5, 5+3)\n",
    "bf = np.random.randn(5, 1)\n",
    "Wi = np.random.randn(5, 5+3)\n",
    "bi = np.random.randn(5, 1)\n",
    "Wo = np.random.randn(5, 5+3)\n",
    "bo = np.random.randn(5, 1)\n",
    "Wc = np.random.randn(5, 5+3)\n",
    "bc = np.random.randn(5, 1)\n",
    "Wy = np.random.randn(2, 5)\n",
    "by = np.random.randn(2, 1)\n",
    "\n",
    "parameters = {\"Wf\": Wf, \"Wi\": Wi, \"Wo\": Wo, \"Wc\": Wc, \"Wy\": Wy, \"bf\": bf, \"bi\": bi, \"bo\": bo, \"bc\": bc, \"by\": by}\n",
    "\n",
    "a_next, c_next, yt, cache = lstm_cell_forward(xt, a_prev, c_prev, parameters)\n",
    "print(\"a_next[4] = \", a_next[4])\n",
    "print(\"a_next.shape = \", a_next.shape)\n",
    "print(\"c_next[2] = \", c_next[2])\n",
    "print(\"c_next.shape = \", c_next.shape)\n",
    "print(\"yt[1] =\", yt[1])\n",
    "print(\"yt.shape = \", yt.shape)\n",
    "print(\"cache[1][3] =\", cache[1][3])\n",
    "print(\"len(cache) = \", len(cache))"
   ]
  },
  {
   "cell_type": "code",
   "execution_count": 11,
   "id": "15bf225c",
   "metadata": {},
   "outputs": [],
   "source": [
    "def lstm_forward(x, a0, parameters):\n",
    "    caches = []\n",
    "    nx, m, t = x.shape\n",
    "    ny, na = parameters['Wy'].shape\n",
    "    \n",
    "    a = np.zeros((na, m, t))\n",
    "    c = a\n",
    "    y = np.zeros((ny, m, t))\n",
    "    \n",
    "    a_next = a0\n",
    "    c_next = np.zeros(a_next.shape)\n",
    "    for td in range(t):\n",
    "        a_next, c_next, yt, cache = lstm_cell_forward(x[:,:,td], a_next, c_next, parameters)\n",
    "        a[:,:,td] = a_next\n",
    "        y[:,:,td] = yt\n",
    "        c[:,:,td] = c_next\n",
    "        caches.append(cache)\n",
    "    caches = (caches, x)\n",
    "    return a, y, c, caches"
   ]
  },
  {
   "cell_type": "code",
   "execution_count": 13,
   "id": "139fd3d8",
   "metadata": {},
   "outputs": [
    {
     "name": "stdout",
     "output_type": "stream",
     "text": [
      "a[4][3][6] =  0.0017506277830301239\n",
      "a.shape =  (5, 10, 7)\n",
      "y[1][4][3] = 0.08389555432705174\n",
      "y.shape =  (2, 10, 7)\n",
      "caches[1][1[1]] = [ 0.82797464  0.23009474  0.76201118 -0.22232814 -0.20075807  0.18656139\n",
      "  0.41005165]\n",
      "c[1][2][1] 0.0006810461977759192\n",
      "len(caches) =  2\n"
     ]
    }
   ],
   "source": [
    "np.random.seed(1)\n",
    "x = np.random.randn(3, 10, 7)\n",
    "a0 = np.random.randn(5, 10)\n",
    "Wf = np.random.randn(5, 5+3)\n",
    "bf = np.random.randn(5, 1)\n",
    "Wi = np.random.randn(5, 5+3)\n",
    "bi = np.random.randn(5, 1)\n",
    "Wo = np.random.randn(5, 5+3)\n",
    "bo = np.random.randn(5, 1)\n",
    "Wc = np.random.randn(5, 5+3)\n",
    "bc = np.random.randn(5, 1)\n",
    "Wy = np.random.randn(2, 5)\n",
    "by = np.random.randn(2, 1)\n",
    "parameters = {\"Wf\": Wf, \"Wi\": Wi, \"Wo\": Wo, \"Wc\": Wc, \"Wy\": Wy, \"bf\": bf, \"bi\": bi, \"bo\": bo, \"bc\": bc, \"by\": by}\n",
    "\n",
    "a, y, c, caches = lstm_forward(x, a0, parameters)\n",
    "print(\"a[4][3][6] = \", a[4][3][6])\n",
    "print(\"a.shape = \", a.shape)\n",
    "print(\"y[1][4][3] =\", y[1][4][3])\n",
    "print(\"y.shape = \", y.shape)\n",
    "print(\"caches[1][1[1]] =\", caches[1][1][1])\n",
    "print(\"c[1][2][1]\", c[1][2][1])\n",
    "print(\"len(caches) = \", len(caches))"
   ]
  },
  {
   "cell_type": "code",
   "execution_count": null,
   "id": "134912ae",
   "metadata": {},
   "outputs": [],
   "source": []
  }
 ],
 "metadata": {
  "kernelspec": {
   "display_name": "Python 3",
   "language": "python",
   "name": "python3"
  },
  "language_info": {
   "codemirror_mode": {
    "name": "ipython",
    "version": 3
   },
   "file_extension": ".py",
   "mimetype": "text/x-python",
   "name": "python",
   "nbconvert_exporter": "python",
   "pygments_lexer": "ipython3",
   "version": "3.8.8"
  }
 },
 "nbformat": 4,
 "nbformat_minor": 5
}
